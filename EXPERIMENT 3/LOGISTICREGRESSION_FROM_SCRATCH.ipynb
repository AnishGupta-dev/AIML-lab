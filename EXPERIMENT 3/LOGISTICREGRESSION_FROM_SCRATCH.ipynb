{
  "nbformat": 4,
  "nbformat_minor": 0,
  "metadata": {
    "colab": {
      "provenance": []
    },
    "kernelspec": {
      "name": "python3",
      "display_name": "Python 3"
    },
    "language_info": {
      "name": "python"
    }
  },
  "cells": [
    {
      "cell_type": "markdown",
      "source": [
        "# **EXPERIMENT - 3 LOGISTIC REGRESSION FROM SCRATCH**"
      ],
      "metadata": {
        "id": "cYwfcCWGXskx"
      }
    },
    {
      "cell_type": "markdown",
      "source": [
        "##Baseline Logistic Regression Training"
      ],
      "metadata": {
        "id": "f1oSvl4ZRvVE"
      }
    },
    {
      "cell_type": "code",
      "source": [
        "# Imports\n",
        "import numpy as np\n",
        "import pandas as pd\n",
        "from sklearn.feature_extraction.text import CountVectorizer, TfidfVectorizer\n",
        "from sklearn.model_selection import train_test_split\n",
        "from sklearn.preprocessing import StandardScaler\n",
        "from sklearn.metrics import accuracy_score, precision_score, recall_score, f1_score, confusion_matrix\n",
        "\n",
        "# Load and preprocess data\n",
        "df = pd.read_csv(\"/content/spam.csv\", encoding='latin-1')[[\"v1\", \"v2\"]]\n",
        "df.columns = [\"label\", \"message\"]\n",
        "y = df[\"label\"].map({\"ham\": 0, \"spam\": 1}).values\n",
        "X_raw = df[\"message\"].values\n",
        "\n",
        "# CountVectorizer\n",
        "cv = CountVectorizer()\n",
        "X_cv = cv.fit_transform(X_raw).toarray()\n",
        "\n",
        "# Train-test split\n",
        "X_train, X_test, y_train, y_test = train_test_split(X_cv, y, test_size=0.2, random_state=42)\n",
        "\n",
        "# Logistic Regression from Scratch\n",
        "class LogisticRegressionScratch:\n",
        "    def __init__(self, learning_rate=0.01, epochs=1000, lambda_=0.0):\n",
        "        self.lr = learning_rate\n",
        "        self.epochs = epochs\n",
        "        self.lambda_ = lambda_\n",
        "        self.weights = None\n",
        "        self.bias = 0\n",
        "        self.cost_history = []\n",
        "\n",
        "    def _sigmoid(self, z):\n",
        "        return 1 / (1 + np.exp(-z))\n",
        "\n",
        "    def _cost(self, h, y):\n",
        "        m = len(y)\n",
        "        reg = (self.lambda_ / (2 * m)) * np.sum(self.weights ** 2)\n",
        "        return - (1/m) * np.sum(y * np.log(h + 1e-15) + (1 - y) * np.log(1 - h + 1e-15)) + reg\n",
        "\n",
        "    def fit(self, X, y):\n",
        "        m, n = X.shape\n",
        "        self.weights = np.zeros(n)\n",
        "        self.bias = 0\n",
        "        for _ in range(self.epochs):\n",
        "            z = np.dot(X, self.weights) + self.bias\n",
        "            h = self._sigmoid(z)\n",
        "\n",
        "            dw = (1/m) * np.dot(X.T, (h - y)) + (self.lambda_ / m) * self.weights\n",
        "            db = (1/m) * np.sum(h - y)\n",
        "\n",
        "            self.weights -= self.lr * dw\n",
        "            self.bias -= self.lr * db\n",
        "\n",
        "            self.cost_history.append(self._cost(h, y))\n",
        "\n",
        "    def predict(self, X):\n",
        "        z = np.dot(X, self.weights) + self.bias\n",
        "        return (self._sigmoid(z) >= 0.5).astype(int)\n",
        "\n",
        "# Train baseline model\n",
        "model = LogisticRegressionScratch(learning_rate=0.01, epochs=1000)\n",
        "model.fit(X_train, y_train)\n",
        "predictions = model.predict(X_test)\n",
        "\n",
        "# Report metrics\n",
        "print(\"Accuracy:\", accuracy_score(y_test, predictions))\n",
        "print(\"Precision:\", precision_score(y_test, predictions))\n",
        "print(\"Recall:\", recall_score(y_test, predictions))\n",
        "print(\"F1 Score:\", f1_score(y_test, predictions))\n",
        "print(\"Confusion Matrix:\\n\", confusion_matrix(y_test, predictions))"
      ],
      "metadata": {
        "id": "XzVzhIaZRteA",
        "colab": {
          "base_uri": "https://localhost:8080/"
        },
        "outputId": "b56a76de-3284-4c6b-9c5c-40ff1d2f9421"
      },
      "execution_count": 13,
      "outputs": [
        {
          "output_type": "stream",
          "name": "stdout",
          "text": [
            "Accuracy: 0.8780269058295964\n",
            "Precision: 1.0\n",
            "Recall: 0.09333333333333334\n",
            "F1 Score: 0.17073170731707318\n",
            "Confusion Matrix:\n",
            " [[965   0]\n",
            " [136  14]]\n"
          ]
        }
      ]
    },
    {
      "cell_type": "markdown",
      "source": [
        "##Feature Scaling"
      ],
      "metadata": {
        "id": "JX0u5_g1SBky"
      }
    },
    {
      "cell_type": "code",
      "source": [
        "# Apply StandardScaler to CountVectorizer features\n",
        "scaler = StandardScaler()\n",
        "X_train = scaler.fit_transform(X_train)\n",
        "X_test = scaler.transform(X_test)\n",
        "\n",
        "# Retrain model after scaling\n",
        "model_scaled = LogisticRegressionScratch(learning_rate=0.01, epochs=1000)\n",
        "model_scaled.fit(X_train, y_train)\n",
        "predictions_scaled = model_scaled.predict(X_test)\n",
        "\n",
        "# Report metrics\n",
        "print(\"Accuracy (Scaled):\", accuracy_score(y_test, predictions_scaled))\n",
        "print(\"Precision:\", precision_score(y_test, predictions_scaled))\n",
        "print(\"Recall:\", recall_score(y_test, predictions_scaled))\n",
        "print(\"F1 Score:\", f1_score(y_test, predictions_scaled))\n",
        "print(\"Confusion Matrix:\\n\", confusion_matrix(y_test, predictions_scaled))"
      ],
      "metadata": {
        "id": "O_cA0Y0vRtar",
        "colab": {
          "base_uri": "https://localhost:8080/"
        },
        "outputId": "fd74746f-997f-4f12-80f9-cd486f41a54a"
      },
      "execution_count": 14,
      "outputs": [
        {
          "output_type": "stream",
          "name": "stdout",
          "text": [
            "Accuracy (Scaled): 0.9910313901345291\n",
            "Precision: 0.9861111111111112\n",
            "Recall: 0.9466666666666667\n",
            "F1 Score: 0.9659863945578231\n",
            "Confusion Matrix:\n",
            " [[963   2]\n",
            " [  8 142]]\n"
          ]
        }
      ]
    },
    {
      "cell_type": "markdown",
      "source": [
        "##Feature Representation Comparison"
      ],
      "metadata": {
        "id": "MDPHpBYbSUMx"
      }
    },
    {
      "cell_type": "code",
      "source": [
        "# TfidfVectorizer\n",
        "tfidf = TfidfVectorizer()\n",
        "X_tfidf = tfidf.fit_transform(X_raw).toarray()\n",
        "\n",
        "# Train-test split and scaling\n",
        "X_train_tfidf, X_test_tfidf, y_train_tfidf, y_test_tfidf = train_test_split(X_tfidf, y, test_size=0.2, random_state=42)\n",
        "X_train_tfidf = scaler.fit_transform(X_train_tfidf)\n",
        "X_test_tfidf = scaler.transform(X_test_tfidf)\n",
        "\n",
        "# Train model on TF-IDF features\n",
        "model_tfidf = LogisticRegressionScratch(learning_rate=0.01, epochs=1000)\n",
        "model_tfidf.fit(X_train_tfidf, y_train_tfidf)\n",
        "predictions_tfidf = model_tfidf.predict(X_test_tfidf)\n",
        "\n",
        "# Report metrics\n",
        "print(\"\\n--- TF-IDF Vectorizer Performance ---\")\n",
        "print(\"Accuracy:\", accuracy_score(y_test_tfidf, predictions_tfidf))\n",
        "print(\"Precision:\", precision_score(y_test_tfidf, predictions_tfidf))\n",
        "print(\"Recall:\", recall_score(y_test_tfidf, predictions_tfidf))\n",
        "print(\"F1 Score:\", f1_score(y_test_tfidf, predictions_tfidf))\n",
        "print(\"Confusion Matrix:\\n\", confusion_matrix(y_test_tfidf, predictions_tfidf))"
      ],
      "metadata": {
        "id": "nOsoXuf4RtYG",
        "colab": {
          "base_uri": "https://localhost:8080/"
        },
        "outputId": "eb68ca0a-a927-4d94-e943-7e010f976cb3"
      },
      "execution_count": 15,
      "outputs": [
        {
          "output_type": "stream",
          "name": "stdout",
          "text": [
            "\n",
            "--- TF-IDF Vectorizer Performance ---\n",
            "Accuracy: 0.9811659192825112\n",
            "Precision: 0.9215686274509803\n",
            "Recall: 0.94\n",
            "F1 Score: 0.9306930693069307\n",
            "Confusion Matrix:\n",
            " [[953  12]\n",
            " [  9 141]]\n"
          ]
        }
      ]
    },
    {
      "cell_type": "markdown",
      "source": [
        "##Effect of Regularization"
      ],
      "metadata": {
        "id": "y_UZCqwPSbMs"
      }
    },
    {
      "cell_type": "code",
      "source": [
        "# Try different lambda values\n",
        "lambda_values = [0.01, 0.1, 1.0]\n",
        "print(\"\\n--- Regularization Comparison (CountVectorizer) ---\")\n",
        "for lam in lambda_values:\n",
        "    model_reg = LogisticRegressionScratch(learning_rate=0.01, epochs=1000, lambda_=lam)\n",
        "    model_reg.fit(X_train, y_train)\n",
        "    preds_reg = model_reg.predict(X_test)\n",
        "\n",
        "    print(f\"\\nλ = {lam}\")\n",
        "    print(\"Accuracy:\", accuracy_score(y_test, preds_reg))\n",
        "    print(\"Precision:\", precision_score(y_test, preds_reg))\n",
        "    print(\"Recall:\", recall_score(y_test, preds_reg))\n",
        "    print(\"F1 Score:\", f1_score(y_test, preds_reg))\n",
        "    print(\"Confusion Matrix:\\n\", confusion_matrix(y_test, preds_reg))"
      ],
      "metadata": {
        "id": "EqzDga1IRtVm",
        "colab": {
          "base_uri": "https://localhost:8080/"
        },
        "outputId": "67d239de-b517-46a5-c6b2-155bb4bb0063"
      },
      "execution_count": 16,
      "outputs": [
        {
          "output_type": "stream",
          "name": "stdout",
          "text": [
            "\n",
            "--- Regularization Comparison (CountVectorizer) ---\n",
            "\n",
            "λ = 0.01\n",
            "Accuracy: 0.9910313901345291\n",
            "Precision: 0.9861111111111112\n",
            "Recall: 0.9466666666666667\n",
            "F1 Score: 0.9659863945578231\n",
            "Confusion Matrix:\n",
            " [[963   2]\n",
            " [  8 142]]\n",
            "\n",
            "λ = 0.1\n",
            "Accuracy: 0.9910313901345291\n",
            "Precision: 0.9861111111111112\n",
            "Recall: 0.9466666666666667\n",
            "F1 Score: 0.9659863945578231\n",
            "Confusion Matrix:\n",
            " [[963   2]\n",
            " [  8 142]]\n",
            "\n",
            "λ = 1.0\n",
            "Accuracy: 0.9910313901345291\n",
            "Precision: 0.9861111111111112\n",
            "Recall: 0.9466666666666667\n",
            "F1 Score: 0.9659863945578231\n",
            "Confusion Matrix:\n",
            " [[963   2]\n",
            " [  8 142]]\n"
          ]
        }
      ]
    },
    {
      "cell_type": "markdown",
      "source": [
        "##Learning Dynamics (Loss Curve)"
      ],
      "metadata": {
        "id": "2jGT-FAxSi0L"
      }
    },
    {
      "cell_type": "code",
      "source": [
        "import matplotlib.pyplot as plt\n",
        "# Plot loss curve for baseline model\n",
        "plt.figure(figsize=(8, 5))\n",
        "plt.plot(model.cost_history, label=\"Loss\")\n",
        "plt.xlabel(\"Epochs\")\n",
        "plt.ylabel(\"Loss\")\n",
        "plt.title(\"Loss Curve (Baseline Model)\")\n",
        "plt.grid(True)\n",
        "plt.legend()\n",
        "plt.tight_layout()\n",
        "plt.show()"
      ],
      "metadata": {
        "id": "WR6mtsdjSiLj",
        "colab": {
          "base_uri": "https://localhost:8080/",
          "height": 507
        },
        "outputId": "7630c86c-c586-45ef-aa59-cf829508ebb7"
      },
      "execution_count": 17,
      "outputs": [
        {
          "output_type": "display_data",
          "data": {
            "text/plain": [
              "<Figure size 800x500 with 1 Axes>"
            ],
            "image/png": "[encoded data removed]"
          },
          "metadata": {}
        }
      ]
    }
  ]
}