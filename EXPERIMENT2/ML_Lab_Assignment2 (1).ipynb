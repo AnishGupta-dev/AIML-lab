{
  "cells": [
    {
      "cell_type": "code",
      "source": [
        "\n",
        "# ML Lab — Assignment 2 (Linear Regression from scratch + sklearn)\n",
        "# Date: August 20, 2025\n"
      ],
      "metadata": {
        "id": "5fdfi7GL52GX"
      },
      "id": "5fdfi7GL52GX",
      "execution_count": null,
      "outputs": []
    },
    {
      "cell_type": "code",
      "source": [
        "import os, math, json\n",
        "import numpy as np\n",
        "import pandas as pd\n",
        "import matplotlib.pyplot as plt\n",
        "from pathlib import Path\n",
        "from typing import Dict, Tuple\n",
        "from sklearn.linear_model import LinearRegression\n",
        "from sklearn.metrics import mean_squared_error, r2_score, mean_absolute_error\n",
        "np.random.seed(42)"
      ],
      "metadata": {
        "id": "U3fHBppO57i5"
      },
      "id": "U3fHBppO57i5",
      "execution_count": null,
      "outputs": []
    },
    {
      "cell_type": "code",
      "source": [
        "# -------------------- Imports --------------------\n",
        "import pandas as pd\n",
        "import numpy as np\n",
        "from pathlib import Path\n",
        "from sklearn.model_selection import train_test_split\n",
        "from sklearn.preprocessing import StandardScaler\n",
        "import kagglehub\n",
        "\n",
        "# -------------------- Step 1: Download and Load Dataset --------------------\n",
        "path = kagglehub.dataset_download(\"camnugent/california-housing-prices\")\n",
        "FULL_CSV = Path(path) / \"housing.csv\"  # Adjust if filename differs\n",
        "\n",
        "if not FULL_CSV.exists():\n",
        "    raise FileNotFoundError(f\"Dataset file not found: {FULL_CSV}\")\n",
        "\n",
        "df = pd.read_csv(FULL_CSV)\n",
        "print(\"Full dataset shape:\", df.shape)\n",
        "\n",
        "# -------------------- Step 2: Train-Test Split --------------------\n",
        "df_train, df_test = train_test_split(df, test_size=0.2, random_state=42)\n",
        "print(\"Train shape:\", df_train.shape)\n",
        "print(\"Test shape:\",  df_test.shape)\n",
        "\n",
        "# -------------------- Step 3: Standardize Features --------------------\n",
        "target_col = \"median_house_value\"\n",
        "feature_cols = df_train.select_dtypes(include=np.number).columns.drop(target_col).tolist()\n",
        "\n",
        "scaler = StandardScaler()\n",
        "X_train_scaled = scaler.fit_transform(df_train[feature_cols])\n",
        "X_test_scaled  = scaler.transform(df_test[feature_cols])\n",
        "\n",
        "# -------------------- Step 4: Add Intercept Column --------------------\n",
        "X_train_design = np.c_[np.ones(X_train_scaled.shape[0]), X_train_scaled]\n",
        "X_test_design  = np.c_[np.ones(X_test_scaled.shape[0]),  X_test_scaled]\n",
        "\n",
        "# -------------------- Step 5: Convert to DataFrame --------------------\n",
        "design_cols = [\"Intercept\"] + feature_cols\n",
        "X_train_df = pd.DataFrame(X_train_design, columns=design_cols)\n",
        "X_test_df  = pd.DataFrame(X_test_design,  columns=design_cols)\n",
        "\n",
        "# -------------------- Step 6: Save Preprocessed Data --------------------\n",
        "X_train_df.to_csv(\"X_train_preprocessed.csv\", index=False)\n",
        "X_test_df.to_csv(\"X_test_preprocessed.csv\", index=False)\n",
        "print(\"Saved X_train_preprocessed.csv and X_test_preprocessed.csv\")"
      ],
      "metadata": {
        "colab": {
          "base_uri": "https://localhost:8080/"
        },
        "id": "48njGKpd_jj9",
        "outputId": "8f515b1b-464c-423b-9b1a-8be6663352fd"
      },
      "id": "48njGKpd_jj9",
      "execution_count": 23,
      "outputs": [
        {
          "output_type": "stream",
          "name": "stdout",
          "text": [
            "Full dataset shape: (20640, 10)\n",
            "Train shape: (16512, 10)\n",
            "Test shape: (4128, 10)\n",
            "Saved X_train_preprocessed.csv and X_test_preprocessed.csv\n"
          ]
        }
      ]
    },
    {
      "cell_type": "code",
      "source": [
        "# -------------------- Step 7: Compute Normal Equation --------------------\n",
        "# Prepare design matrix X and target vector y\n",
        "X = X_train_df.values  # shape: (n_samples, d+1)\n",
        "y = df_train[target_col].values.reshape(-1, 1)  # shape: (n_samples, 1)\n",
        "\n",
        "# Compute θ̂ = (XᵀX)^(-1) Xᵀy\n",
        "theta_hat = np.linalg.inv(X.T @ X) @ X.T @ y\n",
        "\n",
        "# -------------------- Step 8: Display Parameters --------------------\n",
        "print(\"Estimated parameters (θ̂):\")\n",
        "for name, value in zip(design_cols, theta_hat.flatten()):\n",
        "    print(f\"{name:>15}: {value:.4f}\")"
      ],
      "metadata": {
        "colab": {
          "base_uri": "https://localhost:8080/"
        },
        "id": "BvkUEcmuCT0X",
        "outputId": "ede236f3-4325-41ed-95a8-4e60c49fd8d3"
      },
      "id": "BvkUEcmuCT0X",
      "execution_count": 26,
      "outputs": [
        {
          "output_type": "stream",
          "name": "stdout",
          "text": [
            "Estimated parameters (θ̂):\n",
            "      Intercept: 207194.6937\n",
            "      longitude: -85503.2182\n",
            "       latitude: -90698.8488\n",
            "housing_median_age: 14905.9064\n",
            "    total_rooms: -17805.4185\n",
            " total_bedrooms: 48712.3433\n",
            "     population: -43766.4912\n",
            "     households: 17654.5007\n",
            "  median_income: 77194.6995\n"
          ]
        }
      ]
    },
    {
      "cell_type": "code",
      "source": [
        "# Predict on training data\n",
        "y_pred = X @ theta_hat\n",
        "\n",
        "# Compute Mean Squared Error\n",
        "mse = np.mean((y - y_pred) ** 2)\n",
        "print(f\"\\nTraining Mean Squared Error: {mse:.2f}\")"
      ],
      "metadata": {
        "colab": {
          "base_uri": "https://localhost:8080/"
        },
        "id": "dyFv0vmxCzoO",
        "outputId": "dbf545b9-eb23-400f-f90f-4e21b2328eb8"
      },
      "id": "dyFv0vmxCzoO",
      "execution_count": 29,
      "outputs": [
        {
          "output_type": "stream",
          "name": "stdout",
          "text": [
            "\n",
            "Training Mean Squared Error: 4811134397.88\n"
          ]
        }
      ]
    },
    {
      "cell_type": "code",
      "source": [
        "# from google.colab import drive\n",
        "# drive.mount('/content/drive')\n",
        "theta_hat = np.linalg.pinv(X.T @ X) @ X.T @ y"
      ],
      "metadata": {
        "id": "D-jvDT12_09H"
      },
      "id": "D-jvDT12_09H",
      "execution_count": 30,
      "outputs": []
    },
    {
      "cell_type": "code",
      "source": [
        "# -------------------- Imports --------------------\n",
        "import pandas as pd\n",
        "import numpy as np\n",
        "from pathlib import Path\n",
        "from sklearn.model_selection import train_test_split\n",
        "from sklearn.preprocessing import StandardScaler\n",
        "import matplotlib.pyplot as plt\n",
        "import kagglehub\n",
        "\n",
        "# -------------------- Step 1: Load and Preprocess Dataset --------------------\n",
        "# Download and load California housing dataset\n",
        "path = kagglehub.dataset_download(\"camnugent/california-housing-prices\")\n",
        "FULL_CSV = Path(path) / \"housing.csv\"\n",
        "\n",
        "if not FULL_CSV.exists():\n",
        "    raise FileNotFoundError(f\"Dataset file not found: {FULL_CSV}\")\n",
        "\n",
        "df = pd.read_csv(FULL_CSV)\n",
        "print(\"Full dataset shape:\", df.shape)\n",
        "\n",
        "# Split into train and test\n",
        "df_train, df_test = train_test_split(df, test_size=0.2, random_state=42)\n",
        "print(\"Train shape:\", df_train.shape)\n",
        "print(\"Test shape:\",  df_test.shape)\n",
        "\n",
        "# Standardize features\n",
        "target_col = \"median_house_value\"\n",
        "feature_cols = df_train.select_dtypes(include=np.number).columns.drop(target_col).tolist()\n",
        "\n",
        "scaler = StandardScaler()\n",
        "X_train_scaled = scaler.fit_transform(df_train[feature_cols])\n",
        "X_test_scaled  = scaler.transform(df_test[feature_cols])\n",
        "\n",
        "# Add intercept column\n",
        "X_train_design = np.c_[np.ones(X_train_scaled.shape[0]), X_train_scaled]\n",
        "X_test_design  = np.c_[np.ones(X_test_scaled.shape[0]),  X_test_scaled]\n",
        "\n",
        "# Prepare target vector\n",
        "y_train = df_train[target_col].values.reshape(-1, 1)\n",
        "\n",
        "# -------------------- Step 2: Batch Gradient Descent --------------------\n",
        "def batch_gradient_descent(X, y, lr=0.01, epochs=1000, tol=None, verbose=False):\n",
        "    n, d = X.shape\n",
        "    theta = np.zeros((d, 1))\n",
        "    losses = []\n",
        "\n",
        "    for epoch in range(epochs):\n",
        "        y_pred = X @ theta\n",
        "        error = y_pred - y\n",
        "        loss = (1 / (2 * n)) * np.sum(error ** 2)\n",
        "        losses.append(loss)\n",
        "\n",
        "        gradient = (1 / n) * X.T @ error\n",
        "        theta -= lr * gradient\n",
        "\n",
        "        if verbose and epoch % 100 == 0:\n",
        "            print(f\"Epoch {epoch}: MSE = {loss:.4f}\")\n",
        "\n",
        "        # Early stopping\n",
        "        if tol and epoch > 0 and abs(losses[-2] - loss) < tol:\n",
        "            print(f\"Early stopping at epoch {epoch} (Δloss < {tol})\")\n",
        "            break\n",
        "\n",
        "    return theta, losses\n",
        "\n",
        "# -------------------- Step 3: Run Gradient Descent --------------------\n",
        "X = X_train_design\n",
        "y = y_train\n",
        "theta_gd, loss_history = batch_gradient_descent(X, y, lr=0.01, epochs=1000, tol=1e-6, verbose=True)\n",
        "\n",
        "# -------------------- Step 4: Plot Loss Curve --------------------\n",
        "plt.plot(loss_history)\n",
        "plt.xlabel(\"Epoch\")\n",
        "plt.ylabel(\"MSE Loss\")\n",
        "plt.title(\"Gradient Descent Convergence\")\n",
        "plt.grid(True)\n",
        "plt.tight_layout()\n",
        "plt.show()\n",
        "\n",
        "# -------------------- Step 5: Display Final Parameters --------------------\n",
        "design_cols = [\"Intercept\"] + feature_cols\n",
        "print(\"\\nLearned Parameters (θ̂):\")\n",
        "for name, value in zip(design_cols, theta_gd.flatten()):\n",
        "    print(f\"{name:>15}: {value:.4f}\")"
      ],
      "metadata": {
        "colab": {
          "base_uri": "https://localhost:8080/",
          "height": 904
        },
        "id": "4FIyA2XzDkQo",
        "outputId": "760d915c-d260-47b3-9f86-6f747232efb6"
      },
      "id": "4FIyA2XzDkQo",
      "execution_count": 37,
      "outputs": [
        {
          "output_type": "stream",
          "name": "stdout",
          "text": [
            "Full dataset shape: (20640, 10)\n",
            "Train shape: (16512, 10)\n",
            "Test shape: (4128, 10)\n",
            "Epoch 0: MSE = 28148711615.5157\n",
            "Epoch 100: MSE = 6428462204.4413\n",
            "Epoch 200: MSE = 3407780742.3858\n",
            "Epoch 300: MSE = 2924900807.8509\n",
            "Epoch 400: MSE = 2800275885.5158\n",
            "Epoch 500: MSE = 2734588405.0944\n",
            "Epoch 600: MSE = 2684863844.0686\n",
            "Epoch 700: MSE = 2643766794.5009\n",
            "Epoch 800: MSE = 2609189695.4210\n",
            "Epoch 900: MSE = 2579960054.2126\n"
          ]
        },
        {
          "output_type": "display_data",
          "data": {
            "text/plain": [
              "<Figure size 640x480 with 1 Axes>"
            ],
            "image/png": "[encoded data removed]"
          },
          "metadata": {}
        },
        {
          "output_type": "stream",
          "name": "stdout",
          "text": [
            "\n",
            "Learned Parameters (θ̂):\n",
            "      Intercept: 207185.7489\n",
            "      longitude: -43506.8744\n",
            "       latitude: -48761.8130\n",
            "housing_median_age: 20552.8410\n",
            "    total_rooms: -4440.0524\n",
            " total_bedrooms: 22169.1414\n",
            "     population: -32668.8314\n",
            "     households: 22408.0364\n",
            "  median_income: 78860.5196\n"
          ]
        }
      ]
    },
    {
      "cell_type": "code",
      "source": [
        "from sklearn.linear_model import LinearRegression\n",
        "\n",
        "# Initialize and fit the model\n",
        "lr_model = LinearRegression(fit_intercept=False)  # Intercept already included in X\n",
        "lr_model.fit(X_train_design, y_train)\n",
        "\n",
        "# Get parameters\n",
        "theta_sklearn = lr_model.coef_.reshape(-1, 1)  # shape: (d+1, 1)"
      ],
      "metadata": {
        "id": "0i6DrbNjFLZh"
      },
      "id": "0i6DrbNjFLZh",
      "execution_count": 38,
      "outputs": []
    },
    {
      "cell_type": "code",
      "source": [
        "print(\"\\n🔍 Parameter Comparison (Gradient Descent vs Scikit-Learn):\")\n",
        "for name, theta_gd_val, theta_sk_val in zip(design_cols, theta_gd.flatten(), theta_sklearn.flatten()):\n",
        "    print(f\"{name:>15}: GD = {theta_gd_val:>10.4f} | Sklearn = {theta_sk_val:>10.4f}\")"
      ],
      "metadata": {
        "colab": {
          "base_uri": "https://localhost:8080/"
        },
        "id": "FngOMenzFOkj",
        "outputId": "9e185940-11e4-4910-f8b6-ca29a063726c"
      },
      "id": "FngOMenzFOkj",
      "execution_count": 39,
      "outputs": [
        {
          "output_type": "stream",
          "name": "stdout",
          "text": [
            "\n",
            "🔍 Parameter Comparison (Gradient Descent vs Scikit-Learn):\n",
            "      Intercept: GD = 207185.7489 | Sklearn = 207194.6937\n",
            "      longitude: GD = -43506.8744 | Sklearn = -85503.2182\n",
            "       latitude: GD = -48761.8130 | Sklearn = -90698.8488\n",
            "housing_median_age: GD = 20552.8410 | Sklearn = 14905.9064\n",
            "    total_rooms: GD = -4440.0524 | Sklearn = -17805.4185\n",
            " total_bedrooms: GD = 22169.1414 | Sklearn = 48712.3433\n",
            "     population: GD = -32668.8314 | Sklearn = -43766.4912\n",
            "     households: GD = 22408.0364 | Sklearn = 17654.5007\n",
            "  median_income: GD = 78860.5196 | Sklearn = 77194.6995\n"
          ]
        }
      ]
    },
    {
      "cell_type": "code",
      "source": [
        "from sklearn.metrics import mean_squared_error\n",
        "\n",
        "# Predictions\n",
        "y_pred_gd = X_train_design @ theta_gd\n",
        "y_pred_sk = lr_model.predict(X_train_design).reshape(-1, 1)\n",
        "\n",
        "# MSE\n",
        "mse_gd = mean_squared_error(y_train, y_pred_gd)\n",
        "mse_sk = mean_squared_error(y_train, y_pred_sk)\n",
        "\n",
        "print(f\"\\n Training MSE Comparison:\")\n",
        "print(f\"Gradient Descent MSE : {mse_gd:.2f}\")\n",
        "print(f\"Scikit-Learn MSE     : {mse_sk:.2f}\")"
      ],
      "metadata": {
        "colab": {
          "base_uri": "https://localhost:8080/"
        },
        "id": "lhq8HbOvFRg0",
        "outputId": "80e8eeb6-aaca-4833-8b36-80c52584b9f4"
      },
      "id": "lhq8HbOvFRg0",
      "execution_count": 41,
      "outputs": [
        {
          "output_type": "stream",
          "name": "stdout",
          "text": [
            "\n",
            " Training MSE Comparison:\n",
            "Gradient Descent MSE : 5110386634.40\n",
            "Scikit-Learn MSE     : 4811134397.88\n"
          ]
        }
      ]
    },
    {
      "cell_type": "code",
      "source": [
        "def run_gd_for_lr(X_scaled, X_unscaled, y, lrs, epochs=500):\n",
        "    results = {}\n",
        "    for scaled, X in zip([\"scaled\", \"unscaled\"], [X_scaled, X_unscaled]):\n",
        "        for lr in lrs:\n",
        "            label = f\"{scaled}_lr={lr}\"\n",
        "            _, losses = batch_gradient_descent(X, y, lr=lr, epochs=epochs)\n",
        "            results[label] = losses\n",
        "    return results\n",
        "\n",
        "# Prepare unscaled design matrix\n",
        "X_unscaled = np.c_[np.ones(df_train.shape[0]), df_train[feature_cols].values]\n",
        "X_scaled = X_train_design  # already standardized + intercept\n",
        "y = df_train[target_col].values.reshape(-1, 1)\n",
        "\n",
        "# Run gradient descent for multiple learning rates\n",
        "lrs = [0.001, 0.01, 0.1]\n",
        "loss_curves = run_gd_for_lr(X_scaled, X_unscaled, y, lrs)\n",
        "\n",
        "# Plot\n",
        "plt.figure(figsize=(10, 6))\n",
        "for label, losses in loss_curves.items():\n",
        "    plt.plot(losses, label=label)\n",
        "plt.xlabel(\"Epoch\")\n",
        "plt.ylabel(\"Training MSE Loss\")\n",
        "plt.title(\"Loss vs Iterations for Different Learning Rates & Scaling\")\n",
        "plt.legend()\n",
        "plt.grid(True)\n",
        "plt.tight_layout()\n",
        "plt.savefig(\"plots/loss_vs_iterations.png\", dpi=150)\n",
        "plt.savefig(\"plots/loss_vs_iterations.pdf\")\n",
        "print(\"Saved: loss_vs_iterations.png and .pdf\")"
      ],
      "metadata": {
        "colab": {
          "base_uri": "https://localhost:8080/",
          "height": 798
        },
        "id": "26lTTYdnFy0K",
        "outputId": "ff8e87a9-65e2-44ab-826d-5199a959c34d"
      },
      "id": "26lTTYdnFy0K",
      "execution_count": 42,
      "outputs": [
        {
          "output_type": "stream",
          "name": "stderr",
          "text": [
            "/tmp/ipython-input-3504274310.py:65: RuntimeWarning: overflow encountered in square\n",
            "  loss = (1 / (2 * n)) * np.sum(error ** 2)\n",
            "/tmp/ipython-input-3504274310.py:68: RuntimeWarning: overflow encountered in matmul\n",
            "  gradient = (1 / n) * X.T @ error\n",
            "/tmp/ipython-input-3504274310.py:69: RuntimeWarning: invalid value encountered in subtract\n",
            "  theta -= lr * gradient\n",
            "/usr/local/lib/python3.12/dist-packages/numpy/_core/fromnumeric.py:86: RuntimeWarning: overflow encountered in reduce\n",
            "  return ufunc.reduce(obj, axis, dtype, out, **passkwargs)\n",
            "/tmp/ipython-input-3504274310.py:63: RuntimeWarning: overflow encountered in matmul\n",
            "  y_pred = X @ theta\n"
          ]
        },
        {
          "output_type": "stream",
          "name": "stdout",
          "text": [
            "Saved: loss_vs_iterations.png and .pdf\n"
          ]
        },
        {
          "output_type": "display_data",
          "data": {
            "text/plain": [
              "<Figure size 1000x600 with 1 Axes>"
            ],
            "image/png": "[encoded data removed]"
          },
          "metadata": {}
        }
      ]
    },
    {
      "cell_type": "code",
      "execution_count": null,
      "id": "8bbf6a48",
      "metadata": {
        "id": "8bbf6a48"
      },
      "outputs": [],
      "source": []
    }
  ],
  "metadata": {
    "colab": {
      "provenance": []
    },
    "language_info": {
      "name": "python"
    },
    "kernelspec": {
      "name": "python3",
      "display_name": "Python 3"
    }
  },
  "nbformat": 4,
  "nbformat_minor": 5
}